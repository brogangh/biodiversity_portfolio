{
 "cells": [
  {
   "cell_type": "code",
   "execution_count": 1,
   "metadata": {},
   "outputs": [],
   "source": [
    "import pandas as pd\n",
    "from matplotlib import pyplot as plt\n",
    "import seaborn as sns"
   ]
  },
  {
   "cell_type": "code",
   "execution_count": 2,
   "metadata": {},
   "outputs": [
    {
     "name": "stdout",
     "output_type": "stream",
     "text": [
      "   category                scientific_name  \\\n",
      "0    Mammal  Clethrionomys gapperi gapperi   \n",
      "1    Mammal                      Bos bison   \n",
      "2    Mammal                     Bos taurus   \n",
      "3    Mammal                     Ovis aries   \n",
      "4    Mammal                 Cervus elaphus   \n",
      "5    Mammal         Odocoileus virginianus   \n",
      "6    Mammal                     Sus scrofa   \n",
      "7    Mammal                  Canis latrans   \n",
      "8    Mammal                    Canis lupus   \n",
      "9    Mammal                    Canis rufus   \n",
      "10   Mammal       Urocyon cinereoargenteus   \n",
      "11   Mammal                   Vulpes fulva   \n",
      "12   Mammal                  Vulpes vulpes   \n",
      "13   Mammal                 Felis concolor   \n",
      "14   Mammal               Felis silvestris   \n",
      "15   Mammal                     Lynx rufus   \n",
      "16   Mammal                  Puma concolor   \n",
      "17   Mammal              Mephitis mephitis   \n",
      "18   Mammal             Spilogale putorius   \n",
      "19   Mammal              Lontra canadensis   \n",
      "20   Mammal               Lutra canadensis   \n",
      "21   Mammal                Martes pennanti   \n",
      "22   Mammal                        Mustela   \n",
      "23   Mammal                Mustela frenata   \n",
      "24   Mammal                Mustela nivalis   \n",
      "\n",
      "                                         common_names conservation_status  \n",
      "0                            Gapper's Red-Backed Vole                 NaN  \n",
      "1                               American Bison, Bison                 NaN  \n",
      "2   Aurochs, Aurochs, Domestic Cattle (Feral), Dom...                 NaN  \n",
      "3   Domestic Sheep, Mouflon, Red Sheep, Sheep (Feral)                 NaN  \n",
      "4                                       Wapiti Or Elk                 NaN  \n",
      "5                                   White-Tailed Deer                 NaN  \n",
      "6                                 Feral Hog, Wild Pig                 NaN  \n",
      "7                                              Coyote  Species of Concern  \n",
      "8                                           Gray Wolf          Endangered  \n",
      "9                                            Red Wolf          Endangered  \n",
      "10                          Common Gray Fox, Gray Fox                 NaN  \n",
      "11          Black Fox, Cross Fox, Red Fox, Silver Fox                 NaN  \n",
      "12                                            Red Fox                 NaN  \n",
      "13                                      Mountain Lion                 NaN  \n",
      "14                                  Wild Cat, Wildcat                 NaN  \n",
      "15                                             Bobcat                 NaN  \n",
      "16                            Panther (Mountain Lion)                 NaN  \n",
      "17                                      Striped Skunk                 NaN  \n",
      "18                              Eastern Spotted Skunk                 NaN  \n",
      "19                                        River Otter                 NaN  \n",
      "20                               Northern River Otter                 NaN  \n",
      "21                                             Fisher                 NaN  \n",
      "22                                   Mink (Or Weasel)                 NaN  \n",
      "23                                 Long-Tailed Weasel                 NaN  \n",
      "24                                       Least Weasel                 NaN  \n",
      "            scientific_name                            park_name  observations\n",
      "0        Vicia benghalensis  Great Smoky Mountains National Park            68\n",
      "1            Neovison vison  Great Smoky Mountains National Park            77\n",
      "2         Prunus subcordata               Yosemite National Park           138\n",
      "3      Abutilon theophrasti                  Bryce National Park            84\n",
      "4  Githopsis specularioides  Great Smoky Mountains National Park            85\n",
      "Index(['category', 'scientific_name', 'common_names', 'conservation_status'], dtype='object')\n",
      "Index(['scientific_name', 'park_name', 'observations'], dtype='object')\n"
     ]
    }
   ],
   "source": [
    "species_info = pd.read_csv('species_info.csv')\n",
    "print(species_info.head(25))\n",
    "observations = pd.read_csv('observations.csv')\n",
    "print(observations.head())\n",
    "print(species_info.columns)\n",
    "print(observations.columns)\n",
    "\n"
   ]
  },
  {
   "cell_type": "code",
   "execution_count": 3,
   "metadata": {},
   "outputs": [],
   "source": [
    "#data is a list of species of animal and various identifying data, such as which park, scientific name ets. observations is the number of times an animal is seen\n",
    "#possible ideas: correlation between park and overall number of sightings. Correlation between parks and number of endangered status species. parks with the most endangered species sightings."
   ]
  },
  {
   "cell_type": "code",
   "execution_count": 4,
   "metadata": {},
   "outputs": [
    {
     "name": "stdout",
     "output_type": "stream",
     "text": [
      "['Great Smoky Mountains National Park' 'Yosemite National Park'\n",
      " 'Bryce National Park' 'Yellowstone National Park']\n"
     ]
    }
   ],
   "source": [
    "parks=observations.park_name.unique()\n",
    "print(parks)\n"
   ]
  },
  {
   "cell_type": "code",
   "execution_count": 12,
   "metadata": {},
   "outputs": [
    {
     "data": {
      "image/png": "[encoded data removed]",
      "text/plain": [
       "<Figure size 432x288 with 1 Axes>"
      ]
     },
     "metadata": {
      "needs_background": "light"
     },
     "output_type": "display_data"
    },
    {
     "data": {
      "text/plain": [
       "<Figure size 432x288 with 0 Axes>"
      ]
     },
     "metadata": {},
     "output_type": "display_data"
    }
   ],
   "source": [
    "fig=sns.barplot(data = observations, x=observations.observations, y=observations.park_name)\n",
    "fig.set(xlabel='observations', ylabel='park name')\n",
    "plt.savefig('overallobservationsbypark')\n",
    "plt.show()\n",
    "plt.clf()"
   ]
  },
  {
   "cell_type": "code",
   "execution_count": 6,
   "metadata": {},
   "outputs": [],
   "source": [
    "number_special_status = len(species_info.conservation_status.dropna())\n",
    "special_status = species_info.conservation_status.dropna()\n",
    "#print(number_special_status)\n",
    "test=len(species_info.conservation_status)\n",
    "#print(test)\n",
    "percentage_special = number_special_status/test*100\n",
    "#print(percentage_special)\n",
    "#3.2795% of animals have special conservation status"
   ]
  },
  {
   "cell_type": "code",
   "execution_count": 8,
   "metadata": {},
   "outputs": [
    {
     "name": "stdout",
     "output_type": "stream",
     "text": [
      "                      scientific_name                            park_name  \\\n",
      "0                  Vicia benghalensis  Great Smoky Mountains National Park   \n",
      "1                  Vicia benghalensis               Yosemite National Park   \n",
      "2                  Vicia benghalensis            Yellowstone National Park   \n",
      "3                  Vicia benghalensis                  Bryce National Park   \n",
      "4                      Neovison vison  Great Smoky Mountains National Park   \n",
      "5                      Neovison vison            Yellowstone National Park   \n",
      "6                      Neovison vison                  Bryce National Park   \n",
      "7                      Neovison vison               Yosemite National Park   \n",
      "8                   Prunus subcordata               Yosemite National Park   \n",
      "9                   Prunus subcordata            Yellowstone National Park   \n",
      "10                  Prunus subcordata                  Bryce National Park   \n",
      "11                  Prunus subcordata  Great Smoky Mountains National Park   \n",
      "12               Abutilon theophrasti                  Bryce National Park   \n",
      "13               Abutilon theophrasti               Yosemite National Park   \n",
      "14               Abutilon theophrasti  Great Smoky Mountains National Park   \n",
      "15               Abutilon theophrasti            Yellowstone National Park   \n",
      "16           Githopsis specularioides  Great Smoky Mountains National Park   \n",
      "17           Githopsis specularioides               Yosemite National Park   \n",
      "18           Githopsis specularioides                  Bryce National Park   \n",
      "19           Githopsis specularioides            Yellowstone National Park   \n",
      "20  Elymus virginicus var. virginicus               Yosemite National Park   \n",
      "21  Elymus virginicus var. virginicus            Yellowstone National Park   \n",
      "22  Elymus virginicus var. virginicus                  Bryce National Park   \n",
      "23  Elymus virginicus var. virginicus  Great Smoky Mountains National Park   \n",
      "24                   Spizella pusilla            Yellowstone National Park   \n",
      "\n",
      "    observations        category                        common_names  \\\n",
      "0             68  Vascular Plant  Purple Vetch, Reddish Tufted Vetch   \n",
      "1            148  Vascular Plant  Purple Vetch, Reddish Tufted Vetch   \n",
      "2            247  Vascular Plant  Purple Vetch, Reddish Tufted Vetch   \n",
      "3            104  Vascular Plant  Purple Vetch, Reddish Tufted Vetch   \n",
      "4             77          Mammal                       American Mink   \n",
      "5            218          Mammal                       American Mink   \n",
      "6             91          Mammal                       American Mink   \n",
      "7            200          Mammal                       American Mink   \n",
      "8            138  Vascular Plant                        Klamath Plum   \n",
      "9            217  Vascular Plant                        Klamath Plum   \n",
      "10            91  Vascular Plant                        Klamath Plum   \n",
      "11            72  Vascular Plant                        Klamath Plum   \n",
      "12            84  Vascular Plant                          Velvetleaf   \n",
      "13           138  Vascular Plant                          Velvetleaf   \n",
      "14            85  Vascular Plant                          Velvetleaf   \n",
      "15           262  Vascular Plant                          Velvetleaf   \n",
      "16            85  Vascular Plant                      Common Bluecup   \n",
      "17           134  Vascular Plant                      Common Bluecup   \n",
      "18            92  Vascular Plant                      Common Bluecup   \n",
      "19           216  Vascular Plant                      Common Bluecup   \n",
      "20           112  Vascular Plant                    Virginia Wildrye   \n",
      "21           264  Vascular Plant                    Virginia Wildrye   \n",
      "22            95  Vascular Plant                    Virginia Wildrye   \n",
      "23            80  Vascular Plant                    Virginia Wildrye   \n",
      "24           228            Bird                       Field Sparrow   \n",
      "\n",
      "   conservation_status  \n",
      "0                  NaN  \n",
      "1                  NaN  \n",
      "2                  NaN  \n",
      "3                  NaN  \n",
      "4                  NaN  \n",
      "5                  NaN  \n",
      "6                  NaN  \n",
      "7                  NaN  \n",
      "8                  NaN  \n",
      "9                  NaN  \n",
      "10                 NaN  \n",
      "11                 NaN  \n",
      "12                 NaN  \n",
      "13                 NaN  \n",
      "14                 NaN  \n",
      "15                 NaN  \n",
      "16                 NaN  \n",
      "17                 NaN  \n",
      "18                 NaN  \n",
      "19                 NaN  \n",
      "20                 NaN  \n",
      "21                 NaN  \n",
      "22                 NaN  \n",
      "23                 NaN  \n",
      "24                 NaN  \n"
     ]
    }
   ],
   "source": [
    "merged = observations.merge(species_info)\n",
    "print(merged.head(25))"
   ]
  },
  {
   "cell_type": "code",
   "execution_count": 13,
   "metadata": {},
   "outputs": [
    {
     "data": {
      "image/png": "[encoded data removed]",
      "text/plain": [
       "<Figure size 432x288 with 1 Axes>"
      ]
     },
     "metadata": {
      "needs_background": "light"
     },
     "output_type": "display_data"
    },
    {
     "data": {
      "text/plain": [
       "<Figure size 432x288 with 0 Axes>"
      ]
     },
     "metadata": {},
     "output_type": "display_data"
    }
   ],
   "source": [
    "eh=sns.barplot(data = merged, x=merged.observations, y=merged.conservation_status, hue=merged.park_name)\n",
    "eh.set(xlabel='observations', ylabel='park name')\n",
    "plt.legend(fontsize=5)\n",
    "plt.savefig('observationsbyconservationstatus')\n",
    "plt.show()\n",
    "plt.clf()"
   ]
  },
  {
   "cell_type": "code",
   "execution_count": 14,
   "metadata": {},
   "outputs": [
    {
     "data": {
      "image/png": "[encoded data removed]",
      "text/plain": [
       "<Figure size 432x288 with 1 Axes>"
      ]
     },
     "metadata": {
      "needs_background": "light"
     },
     "output_type": "display_data"
    },
    {
     "data": {
      "text/plain": [
       "<Figure size 432x288 with 0 Axes>"
      ]
     },
     "metadata": {},
     "output_type": "display_data"
    }
   ],
   "source": [
    "thing = sns.barplot(data = merged, x=merged.observations, y=merged.category, hue=merged.park_name)\n",
    "thing.set(xlabel='observations', ylabel='park name')\n",
    "plt.legend(fontsize=5)\n",
    "plt.savefig('observationsbytype')\n",
    "plt.show()\n",
    "plt.clf()"
   ]
  },
  {
   "cell_type": "code",
   "execution_count": null,
   "metadata": {},
   "outputs": [],
   "source": []
  }
 ],
 "metadata": {
  "kernelspec": {
   "display_name": "Python 3 (ipykernel)",
   "language": "python",
   "name": "python3"
  },
  "language_info": {
   "codemirror_mode": {
    "name": "ipython",
    "version": 3
   },
   "file_extension": ".py",
   "mimetype": "text/x-python",
   "name": "python",
   "nbconvert_exporter": "python",
   "pygments_lexer": "ipython3",
   "version": "3.9.7"
  }
 },
 "nbformat": 4,
 "nbformat_minor": 4
}
